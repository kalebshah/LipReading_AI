{
 "cells": [
  {
   "cell_type": "markdown",
   "metadata": {
    "id": "Q1g2EXEC5H7Q"
   },
   "source": [
    "## Install Libraries and Dependencies"
   ]
  },
  {
   "cell_type": "code",
   "execution_count": 2,
   "metadata": {
    "colab": {
     "base_uri": "https://localhost:8080/"
    },
    "executionInfo": {
     "elapsed": 2856,
     "status": "ok",
     "timestamp": 1715891210687,
     "user": {
      "displayName": "Kaleb Shah",
      "userId": "05986787073364614490"
     },
     "user_tz": 300
    },
    "id": "-EogM2V95C8_",
    "outputId": "ac3f68bc-4bd4-4b1a-c449-9705ceaa117a"
   },
   "outputs": [
    {
     "name": "stdout",
     "output_type": "stream",
     "text": [
      "Drive already mounted at /content/drive; to attempt to forcibly remount, call drive.mount(\"/content/drive\", force_remount=True).\n"
     ]
    }
   ],
   "source": [
    "import cv2  # OpenCV library for video processing\n",
    "import torch  # PyTorch library for deep learning\n",
    "import os  # For file and directory manipulation\n",
    "import numpy as np  # Numerical computing library\n",
    "from typing import List  # Type hinting for clarity\n",
    "from matplotlib import pyplot as plt  # For visualization\n",
    "import imageio  # For creating GIFs\n",
    "import gdown  # For downloading data from Google Drive\n",
    "from torch.utils.data import Dataset, DataLoader  # For creating data loaders\n",
    "import torch.nn as nn  # Neural network modules\n",
    "import torch.optim as optim  # Optimization algorithms\n",
    "from torchvision import datasets, transforms  # Image and video transformations\n",
    "import torch.nn.functional as F  # Functional interface for neural network operations\n",
    "from torch.nn.utils.rnn import pad_sequence  # Padding for sequencesF\n",
    "\n",
    "# Set device to GPU if available, else CPU\n",
    "device = torch.device(\"cuda\" if torch.cuda.is_available() else \"cpu\")\n",
    "# Connecting Google Drive\n",
    "from google.colab import drive\n",
    "drive.mount('/content/drive')"
   ]
  },
  {
   "cell_type": "code",
   "execution_count": null,
   "metadata": {
    "colab": {
     "base_uri": "https://localhost:8080/"
    },
    "executionInfo": {
     "elapsed": 7003,
     "status": "ok",
     "timestamp": 1715891217687,
     "user": {
      "displayName": "Kaleb Shah",
      "userId": "05986787073364614490"
     },
     "user_tz": 300
    },
    "id": "Gxi5fYSL5UIf",
    "outputId": "4fc32454-4ee2-4c65-e450-ce7995bd8a86"
   },
   "outputs": [],
   "source": [
    "# # Extracting Files From Previously Downloaded Data (needed for google colab)\n",
    "# url = 'https://drive.google.com/uc?id=1YlvpDLix3S-U8fd-gqRwPcWXAXm8JwjL'\n",
    "# output = 'data.zip'\n",
    "# gdown.download(url, output, quiet=False)\n",
    "# gdown.extractall('data.zip')"
   ]
  },
  {
   "cell_type": "markdown",
   "metadata": {
    "id": "8Wm93ilw5o1O"
   },
   "source": [
    "# Data Loading and Helper Functions"
   ]
  },
  {
   "cell_type": "code",
   "execution_count": 4,
   "metadata": {
    "executionInfo": {
     "elapsed": 22,
     "status": "ok",
     "timestamp": 1715891217688,
     "user": {
      "displayName": "Kaleb Shah",
      "userId": "05986787073364614490"
     },
     "user_tz": 300
    },
    "id": "lBh6gXVH5P9h"
   },
   "outputs": [],
   "source": [
    "# Helper class for character mapping including encoding and decoding character strings\n",
    "class CharMap:\n",
    "    def __init__(self):\n",
    "        self.vocab = [x for x in \"abcdefghijklmnopqrstuvwxyz'?!123456789 \"] + [\"<pad>\"]\n",
    "        self.char_to_num = {char: num for num, char in enumerate(self.vocab)}\n",
    "        self.num_to_char = {num: char for char, num in self.char_to_num.items()}\n",
    "        self.pad_token_idx = self.char_to_num[\"<pad>\"]  # Store the index of the <pad> token\n",
    "\n",
    "    def encode(self, text):\n",
    "        return [self.char_to_num[char] for char in text if char in self.char_to_num]\n",
    "\n",
    "    def decode(self, indices):\n",
    "        # Decode, ignoring indices corresponding to <pad>\n",
    "        return ''.join(self.num_to_char[idx] for idx in indices if idx != self.pad_token_idx)\n",
    "\n",
    "char_map = CharMap()"
   ]
  },
  {
   "cell_type": "code",
   "execution_count": 5,
   "metadata": {
    "executionInfo": {
     "elapsed": 20,
     "status": "ok",
     "timestamp": 1715891217688,
     "user": {
      "displayName": "Kaleb Shah",
      "userId": "05986787073364614490"
     },
     "user_tz": 300
    },
    "id": "7nj0_0ep5P5J"
   },
   "outputs": [],
   "source": [
    "# Function to load and preprocess video frames\n",
    "def load_video(path: str) -> torch.Tensor:\n",
    "    \"\"\"\n",
    "    Loads a video file, preprocesses the frames, and returns a PyTorch tensor of normalized frames.\n",
    "    \"\"\"\n",
    "    cap = cv2.VideoCapture(path)  # Open the video file\n",
    "    frames = []\n",
    "    for _ in range(int(cap.get(cv2.CAP_PROP_FRAME_COUNT))):  # Iterate over frames\n",
    "        ret, frame = cap.read()  # Read a frame\n",
    "        frame = cv2.cvtColor(frame, cv2.COLOR_BGR2GRAY)  # Convert to grayscale\n",
    "        frames.append(frame[190:236, 80:220])  # Crop region of interest\n",
    "    cap.release()  # Release the video capture object\n",
    "\n",
    "    frames = torch.tensor(frames, dtype=torch.float32)  # Convert frames to PyTorch tensor\n",
    "    mean = frames.mean()  # Calculate mean\n",
    "    std = frames.std()  # Calculate standard deviation\n",
    "    return (frames - mean) / std  # Normalize pixel values\n",
    "\n",
    "# Function to load and process alignment files\n",
    "def load_alignments(path: str) -> torch.Tensor:  # Changed return type to torch.Tensor\n",
    "    \"\"\"\n",
    "    Loads alignments from a file and converts them to a PyTorch tensor of character indices.\n",
    "    \"\"\"\n",
    "    with open(path, 'r') as f:\n",
    "        lines = f.readlines()  # Read all lines from the alignment file\n",
    "    tokens = []\n",
    "    for line in lines:\n",
    "        line = line.split()  # Split the line into words\n",
    "        if line[2] != 'sil':  # Check if the word is not silence ('sil')\n",
    "            tokens.extend([' ', line[2]])  # Add a space and the word to the tokens list\n",
    "    tokens = [char for token in tokens for char in token]  # Flatten the list of tokens\n",
    "    indices = [char_map.char_to_num[char] for char in tokens[1:]]  # Convert characters to numerical indices\n",
    "    return torch.tensor(indices, dtype=torch.long)  # Return a PyTorch tensor of indices"
   ]
  },
  {
   "cell_type": "code",
   "execution_count": 6,
   "metadata": {
    "executionInfo": {
     "elapsed": 20,
     "status": "ok",
     "timestamp": 1715891217688,
     "user": {
      "displayName": "Kaleb Shah",
      "userId": "05986787073364614490"
     },
     "user_tz": 300
    },
    "id": "ZusymqVC5PuM"
   },
   "outputs": [],
   "source": [
    "# Function to load both video and alignment data\n",
    "def load_data(path: str):\n",
    "    \"\"\"\n",
    "    Loads video frames and alignments from the specified path.\n",
    "    \"\"\"\n",
    "    file_name = os.path.splitext(os.path.basename(path))[0]  # Extract filename without extension\n",
    "    video_path = os.path.join('data', 's1', f'{file_name}.mpg')  # Construct video path\n",
    "    alignment_path = os.path.join('data', 'alignments', 's1', f'{file_name}.align')  # Construct alignment path\n",
    "\n",
    "    if os.path.exists(alignment_path):  # Check if alignment file exists\n",
    "        frames = load_video(video_path)  # Load video frames\n",
    "        alignments = load_alignments(alignment_path)  # Load alignments\n",
    "        return frames, alignments\n",
    "    else:\n",
    "        return None\n",
    "\n",
    "# Testing if Data was loaded as expected and the tensors are correct size.\n",
    "# test_path = \"/content/data/s1/bbaf3s.mpg\"\n",
    "# frames, alignments = load_data(test_path)\n",
    "# plt.imshow(frames[35].cpu().numpy(), cmap='gray')\n",
    "# plt.show()\n",
    "# print(alignments.size())\n",
    "# print(frames.size())\n",
    "# print(''.join([char_map.num_to_char[num.item()] for num in alignments]))"
   ]
  },
  {
   "cell_type": "code",
   "execution_count": 7,
   "metadata": {
    "executionInfo": {
     "elapsed": 18,
     "status": "ok",
     "timestamp": 1715891217688,
     "user": {
      "displayName": "Kaleb Shah",
      "userId": "05986787073364614490"
     },
     "user_tz": 300
    },
    "id": "gs96SQjF5zS_"
   },
   "outputs": [],
   "source": [
    "# Dataset class for lip reading data\n",
    "class LipReadingDataset(Dataset):\n",
    "    def __init__(self, file_paths):\n",
    "        self.file_paths = file_paths  # Store list of file paths\n",
    "\n",
    "    def __len__(self):\n",
    "        return len(self.file_paths)  # Return the number of data samples\n",
    "\n",
    "    def __getitem__(self, index):\n",
    "        path = self.file_paths[index]  # Get file path for the given index\n",
    "        data = load_data(path)  # Load data (frames and alignments)\n",
    "        if data is not None:\n",
    "            frames, alignments = data\n",
    "            return frames, alignments\n",
    "        else:\n",
    "            return self.__getitem__(index + 1)  # If data is None, try the next index\n",
    "\n",
    "        return video, alignment\n",
    "\n",
    "from torch.nn.utils.rnn import pad_sequence\n",
    "\n",
    "# Collate function to add padding to both frames and alignments tensors\n",
    "def collate_fn(batch):\n",
    "    videos, alignments = zip(*batch)\n",
    "    # Convert list of arrays or tensors to padded tensor\n",
    "    # Use .clone().detach() to safely create a new tensor detached from the computation graph\n",
    "    padded_videos = pad_sequence([v.clone().detach() if isinstance(v, torch.Tensor) else torch.tensor(v) for v in videos], batch_first=True)\n",
    "    padded_alignments = pad_sequence([a.clone().detach() if isinstance(a, torch.Tensor) else torch.tensor(a) for a in alignments], batch_first=True, padding_value=char_map.char_to_num[\"<pad>\"])\n",
    "    return padded_videos, padded_alignments"
   ]
  },
  {
   "cell_type": "code",
   "execution_count": 8,
   "metadata": {
    "executionInfo": {
     "elapsed": 1510,
     "status": "ok",
     "timestamp": 1715891219180,
     "user": {
      "displayName": "Kaleb Shah",
      "userId": "05986787073364614490"
     },
     "user_tz": 300
    },
    "id": "F8XHZhIjBY-C"
   },
   "outputs": [],
   "source": [
    "import torch\n",
    "from textblob import TextBlob\n",
    "\n",
    "## Create Function to convert predictions from Model into character strings without padding\n",
    "def decode_predictions(output, char_map):\n",
    "    # Apply softmax to convert logits to probabilities\n",
    "    probabilities = F.softmax(output, dim=2)\n",
    "    # Use argmax to get the most likely character indices\n",
    "    max_indices = torch.argmax(probabilities, dim=2)\n",
    "    batch_size = max_indices.size(0)\n",
    "    pad_token_idx = char_map.char_to_num[\"<pad>\"]  # Get the index for the pad token\n",
    "\n",
    "    # Decode each sequence in the batch, ignoring pad characters\n",
    "    decoded_batch = []\n",
    "    for i in range(batch_size):\n",
    "        decoded_text = ''.join([char_map.num_to_char[idx.item()] for idx in max_indices[i] if idx.item() != pad_token_idx])\n",
    "        decoded_batch.append(decoded_text)\n",
    "\n",
    "    return decoded_batch\n",
    "\n",
    "def clean_and_correct_text(text):\n",
    "    # Correct spelling using TextBlob\n",
    "    blob = TextBlob(text)\n",
    "    corrected_text = str(blob.correct())\n",
    "\n",
    "    # Tokenize the corrected text and normalize whitespace\n",
    "    tokens = corrected_text.split()\n",
    "\n",
    "    # Concatenate tokens until the 30 character limit is reached\n",
    "    result_text = \"\"\n",
    "    for token in tokens:\n",
    "        if len(result_text) + len(token) + 1 > 31:  # +1 for the space\n",
    "            break\n",
    "        result_text += (token + \" \")\n",
    "\n",
    "    return result_text.strip()"
   ]
  },
  {
   "cell_type": "markdown",
   "metadata": {
    "id": "I48WpZqY58IZ"
   },
   "source": [
    "# Testing"
   ]
  },
  {
   "cell_type": "code",
   "execution_count": 9,
   "metadata": {
    "colab": {
     "base_uri": "https://localhost:8080/",
     "height": 369
    },
    "executionInfo": {
     "elapsed": 1547,
     "status": "ok",
     "timestamp": 1715891220724,
     "user": {
      "displayName": "Kaleb Shah",
      "userId": "05986787073364614490"
     },
     "user_tz": 300
    },
    "id": "2H6Pnt8C5y_R",
    "outputId": "b64ec5a8-3763-43d9-b5d5-89427f313ec5"
   },
   "outputs": [
    {
     "name": "stderr",
     "output_type": "stream",
     "text": [
      "<ipython-input-5-a0f209aa9a03>:14: UserWarning: Creating a tensor from a list of numpy.ndarrays is extremely slow. Please consider converting the list to a single numpy.ndarray with numpy.array() before converting to a tensor. (Triggered internally at ../torch/csrc/utils/tensor_new.cpp:275.)\n",
      "  frames = torch.tensor(frames, dtype=torch.float32)  # Convert frames to PyTorch tensor\n"
     ]
    },
    {
     "name": "stdout",
     "output_type": "stream",
     "text": [
      "Frames shape: torch.Size([2, 75, 46, 140])\n",
      "Alignments shape: torch.Size([2, 24])\n",
      "[11, 0, 24, 38, 6, 17, 4, 4, 13, 38, 0, 19, 38, 11, 38, 4, 8, 6, 7, 19, 38, 13, 14, 22]\n",
      "lay green at l eight now\n"
     ]
    },
    {
     "data": {
      "text/plain": [
       "<matplotlib.image.AxesImage at 0x7ba5e621c040>"
      ]
     },
     "execution_count": 9,
     "metadata": {},
     "output_type": "execute_result"
    },
    {
     "data": {
      "image/png": "[encoded data removed]",
      "text/plain": [
       "<Figure size 640x480 with 1 Axes>"
      ]
     },
     "metadata": {},
     "output_type": "display_data"
    }
   ],
   "source": [
    "## Read all file names from the Data directory\n",
    "data_dir = 'data/s1/'\n",
    "file_paths = [os.path.join(data_dir, f) for f in os.listdir(data_dir) if f.endswith('.mpg')]\n",
    "dataset = LipReadingDataset(file_paths)\n",
    "\n",
    "# ## Create Train Test Split\n",
    "# train_size = int(0.9 * len(dataset))\n",
    "# test_size = len(dataset) - train_size\n",
    "# train_dataset, test_dataset = torch.utils.data.random_split(dataset, [train_size, test_size])\n",
    "\n",
    "## Decides the number of channels in each tensor\n",
    "batch_size = 2  # Setting the batch size\n",
    "test_loader = DataLoader(dataset, batch_size=batch_size, shuffle=False, collate_fn=collate_fn)\n",
    "\n",
    "\n",
    "# Test if padding worked as expected and all tensors are of uniform size\n",
    "batch = next(iter(test_loader))\n",
    "frames, alignments = batch\n",
    "print(f\"Frames shape: {frames.shape}\")\n",
    "print(f\"Alignments shape: {alignments.shape}\")\n",
    "\n",
    "# Visualize the first frame of the first video in the batch\n",
    "# Print the alignments for the sample video\n",
    "sample_alignments = alignments[0].tolist()\n",
    "print(sample_alignments)\n",
    "print(char_map.decode(sample_alignments))\n",
    "plt.imshow(frames[0][74].cpu().numpy())"
   ]
  },
  {
   "cell_type": "code",
   "execution_count": 10,
   "metadata": {
    "executionInfo": {
     "elapsed": 4,
     "status": "ok",
     "timestamp": 1715891220724,
     "user": {
      "displayName": "Kaleb Shah",
      "userId": "05986787073364614490"
     },
     "user_tz": 300
    },
    "id": "wFmbvbwA_wI3"
   },
   "outputs": [],
   "source": [
    "import torch\n",
    "import torch.nn as nn\n",
    "import torch.nn.functional as F\n",
    "import torch.optim as optim\n",
    "from torch.utils.data import DataLoader\n",
    "import csv\n",
    "\n",
    "class LipNetModel(nn.Module):\n",
    "    def __init__(self, num_classes):\n",
    "        super(LipNetModel, self).__init__()\n",
    "        self.conv1 = nn.Conv3d(1, 128, kernel_size=3, padding=1)\n",
    "        self.pool1 = nn.MaxPool3d((1, 2, 2))\n",
    "\n",
    "        self.conv2 = nn.Conv3d(128, 256, kernel_size=3, padding=1)\n",
    "        self.pool2 = nn.MaxPool3d((1, 2, 2))\n",
    "\n",
    "        self.conv3 = nn.Conv3d(256, 75, kernel_size=3, padding=1)\n",
    "        self.pool3 = nn.MaxPool3d((1, 2, 2))\n",
    "\n",
    "        # Adjust the GRU layers to not use dropout internally since they have only one layer\n",
    "        self.gru1 = nn.GRU(6375, 128, num_layers=1, batch_first=True, bidirectional=True)\n",
    "        self.dropout1 = nn.Dropout(0.5)  # Add dropout layer manually after the first GRU\n",
    "        self.gru2 = nn.GRU(256, 128, num_layers=1, batch_first=True, bidirectional=True)\n",
    "        self.dropout2 = nn.Dropout(0.5)  # Add dropout layer manually after the second GRU\n",
    "\n",
    "        self.fc = nn.Linear(256, num_classes)  # Output layer to number of classes\n",
    "\n",
    "    def forward(self, x):\n",
    "        x = F.relu(self.conv1(x))\n",
    "        x = self.pool1(x)\n",
    "\n",
    "        x = F.relu(self.conv2(x))\n",
    "        x = self.pool2(x)\n",
    "\n",
    "        x = F.relu(self.conv3(x))\n",
    "        x = self.pool3(x)\n",
    "\n",
    "        # Flatten the features into [batch, seq_len, feature]\n",
    "        x = x.view(x.size(0), x.size(2), -1)\n",
    "\n",
    "        x, _ = self.gru1(x)\n",
    "        x = self.dropout1(x)  # Apply dropout after the first GRU\n",
    "        x, _ = self.gru2(x)\n",
    "        x = self.dropout2(x)  # Apply dropout after the second GRU\n",
    "        x = self.fc(x)\n",
    "\n",
    "        return x"
   ]
  },
  {
   "cell_type": "markdown",
   "metadata": {
    "id": "jVwiRzUE9qGI"
   },
   "source": [
    "# Testing loop (over entire dataset)"
   ]
  },
  {
   "cell_type": "code",
   "execution_count": 15,
   "metadata": {
    "colab": {
     "base_uri": "https://localhost:8080/"
    },
    "executionInfo": {
     "elapsed": 339,
     "status": "ok",
     "timestamp": 1715891297724,
     "user": {
      "displayName": "Kaleb Shah",
      "userId": "05986787073364614490"
     },
     "user_tz": 300
    },
    "id": "TOkNKHkX9pa1",
    "outputId": "dc62ec90-d1e3-4408-d2aa-7586f23496ee"
   },
   "outputs": [
    {
     "name": "stdout",
     "output_type": "stream",
     "text": [
      "Model loaded on GPU\n"
     ]
    }
   ],
   "source": [
    "# Define device\n",
    "device = torch.device('cuda' if torch.cuda.is_available() else 'cpu')\n",
    "\n",
    "# Create instance of the model\n",
    "model = LipNetModel(num_classes=len(char_map.vocab)).to(device)\n",
    "\n",
    "# Loading from google drive since using google colab\n",
    "# Check if CUDA is available\n",
    "if torch.cuda.is_available():\n",
    "    # Load the model state dict on the GPU\n",
    "    model.load_state_dict(torch.load('/content/drive/MyDrive/Colab Notebooks/model_1_checkpoints/2_lip_reading_model_100.pth', map_location=torch.device('cuda')))\n",
    "    print(\"Model loaded on GPU\")\n",
    "else:\n",
    "    # If CUDA is not available, load on CPU instead\n",
    "    model.load_state_dict(torch.load('/content/drive/MyDrive/Colab Notebooks/model_1_checkpoints/2_lip_reading_model_100.pth', map_location=torch.device('cpu')))\n",
    "    print(\"CUDA is not available. Model loaded on CPU\")\n",
    "\n",
    "# ## Loading from repository directly\n",
    "# model.load_state_dict(torch.load('/Model_Checkpoints/lip_nn_model_post_100_epoch.pth'))"
   ]
  },
  {
   "cell_type": "code",
   "execution_count": 14,
   "metadata": {
    "colab": {
     "base_uri": "https://localhost:8080/"
    },
    "executionInfo": {
     "elapsed": 8918,
     "status": "ok",
     "timestamp": 1715891244381,
     "user": {
      "displayName": "Kaleb Shah",
      "userId": "05986787073364614490"
     },
     "user_tz": 300
    },
    "id": "gLoYXbPgAtsh",
    "outputId": "49aa4b13-4e3d-43a5-8bcc-282cc34d32f0"
   },
   "outputs": [
    {
     "name": "stdout",
     "output_type": "stream",
     "text": [
      "Collecting python-Levenshtein\n",
      "  Downloading python_Levenshtein-0.25.1-py3-none-any.whl (9.4 kB)\n",
      "Collecting Levenshtein==0.25.1 (from python-Levenshtein)\n",
      "  Downloading Levenshtein-0.25.1-cp310-cp310-manylinux_2_17_x86_64.manylinux2014_x86_64.whl (177 kB)\n",
      "\u001b[2K     \u001b[90m━━━━━━━━━━━━━━━━━━━━━━━━━━━━━━━━━━━━━━━━\u001b[0m \u001b[32m177.4/177.4 kB\u001b[0m \u001b[31m6.3 MB/s\u001b[0m eta \u001b[36m0:00:00\u001b[0m\n",
      "\u001b[?25hCollecting rapidfuzz<4.0.0,>=3.8.0 (from Levenshtein==0.25.1->python-Levenshtein)\n",
      "  Downloading rapidfuzz-3.9.0-cp310-cp310-manylinux_2_17_x86_64.manylinux2014_x86_64.whl (3.4 MB)\n",
      "\u001b[2K     \u001b[90m━━━━━━━━━━━━━━━━━━━━━━━━━━━━━━━━━━━━━━━━\u001b[0m \u001b[32m3.4/3.4 MB\u001b[0m \u001b[31m38.7 MB/s\u001b[0m eta \u001b[36m0:00:00\u001b[0m\n",
      "\u001b[?25hInstalling collected packages: rapidfuzz, Levenshtein, python-Levenshtein\n",
      "Successfully installed Levenshtein-0.25.1 python-Levenshtein-0.25.1 rapidfuzz-3.9.0\n"
     ]
    }
   ],
   "source": [
    "# pip install python-Levenshtein"
   ]
  },
  {
   "cell_type": "code",
   "execution_count": null,
   "metadata": {
    "colab": {
     "base_uri": "https://localhost:8080/",
     "height": 1000
    },
    "executionInfo": {
     "elapsed": 359981,
     "status": "error",
     "timestamp": 1715891668157,
     "user": {
      "displayName": "Kaleb Shah",
      "userId": "05986787073364614490"
     },
     "user_tz": 300
    },
    "id": "2n4hkcIl6brn",
    "outputId": "332459cc-dd4c-45b8-e3ba-d44bbc7fe8ac"
   },
   "outputs": [],
   "source": [
    "import torch\n",
    "from torch.nn import functional as F\n",
    "import Levenshtein as lv  # Levenshtein package for edit distance calculation\n",
    "import csv\n",
    "\n",
    "def test_model(test_loader, model, char_map):\n",
    "    model.eval()\n",
    "    test_results = []\n",
    "    iteration_number = 0\n",
    "\n",
    "    with torch.no_grad():\n",
    "        for inputs, labels in test_loader:\n",
    "            inputs = inputs.unsqueeze(1).to(device)  # Ensure input dimensions and device are correct\n",
    "            outputs = model(inputs)\n",
    "\n",
    "            # Decode outputs to text without padding\n",
    "            decoded_texts = decode_predictions(outputs, char_map)\n",
    "            # Post-process decoded texts\n",
    "            post_processed_texts = [clean_and_correct_text(text) for text in decoded_texts]\n",
    "\n",
    "            # Retrieve original texts from labels\n",
    "            original_texts = [char_map.decode(label.tolist()) for label in labels]\n",
    "\n",
    "            # Calculate metrics and print results\n",
    "            for original, decoded, post_processed in zip(original_texts, decoded_texts, post_processed_texts):\n",
    "                raw_edit_distance = lv.distance(original, decoded)\n",
    "                post_processed_edit_distance = lv.distance(original, post_processed)\n",
    "                test_results.append({\n",
    "                    'iteration': iteration_number,\n",
    "                    'original_text': original,\n",
    "                    'raw_prediction': decoded,\n",
    "                    'post_processed_prediction': post_processed,\n",
    "                    'raw_edit_distance': raw_edit_distance,\n",
    "                    'post_processed_edit_distance': post_processed_edit_distance\n",
    "                })\n",
    "\n",
    "                # Print the iteration details\n",
    "                print(f\"Iteration {iteration_number}:\")\n",
    "                print(f\"Original Text: {original}\")\n",
    "                print(f\"Post-Processed Prediction: {post_processed}\")\n",
    "                print(f\"Post-Processed Edit Distance: {post_processed_edit_distance}\")\n",
    "                print(\"-\" * 50)  # Separator for clarity\n",
    "\n",
    "                iteration_number += 1\n",
    "\n",
    "                # Save results to CSV every 100 iterations\n",
    "                if iteration_number % 100 == 0:\n",
    "                    with open(f'LipReading_nn_{iteration_number}_predictions.csv', 'w', newline='') as file:\n",
    "                        writer = csv.DictWriter(file, fieldnames=test_results[0].keys())\n",
    "                        writer.writeheader()\n",
    "                        writer.writerows(test_results)\n",
    "\n",
    "    # Ensure remaining results are written to file\n",
    "    if test_results:\n",
    "        with open(f'LipReading_nn_{iteration_number}_predictions.csv', 'w', newline='') as file:\n",
    "            writer = csv.DictWriter(file, fieldnames=test_results[0].keys())\n",
    "            writer.writeheader()\n",
    "            writer.writerows(test_results)\n",
    "\n",
    "    return None  # Depending on use, might not need to return anything"
   ]
  },
  {
   "cell_type": "code",
   "execution_count": 18,
   "metadata": {
    "colab": {
     "base_uri": "https://localhost:8080/"
    },
    "executionInfo": {
     "elapsed": 426,
     "status": "ok",
     "timestamp": 1715891947844,
     "user": {
      "displayName": "Kaleb Shah",
      "userId": "05986787073364614490"
     },
     "user_tz": 300
    },
    "id": "iicsMXEtAr0s",
    "outputId": "caf561fa-edbb-4db6-8811-7c6de0cc9fe3"
   },
   "outputs": [
    {
     "name": "stdout",
     "output_type": "stream",
     "text": [
      "Average Raw Edit Distance: 16.106\n",
      "Average Post-Processed Edit Distance: 4.887\n"
     ]
    }
   ],
   "source": [
    "import csv\n",
    "# Function toload edit distances from CSV or test results\n",
    "def load_test_results_from_csv(file_path):\n",
    "    # Initialize an empty list to store the test results\n",
    "    test_results = []\n",
    "\n",
    "    # Open the CSV file and read data into the list of dictionaries\n",
    "    with open(file_path, mode='r', newline='') as file:\n",
    "        reader = csv.DictReader(file)\n",
    "        for row in reader:\n",
    "            # Convert numeric fields from string to appropriate types\n",
    "            row['raw_edit_distance'] = int(row['raw_edit_distance'])\n",
    "            row['post_processed_edit_distance'] = int(row['post_processed_edit_distance'])\n",
    "            test_results.append(row)\n",
    "\n",
    "    return test_results\n",
    "\n",
    "# Function to compute average edit distance and other metrics\n",
    "def compute_metrics(test_results):\n",
    "    total_raw_edit_distance = sum(result['raw_edit_distance'] for result in test_results)\n",
    "    total_post_processed_edit_distance = sum(result['post_processed_edit_distance'] for result in test_results)\n",
    "    num_samples = len(test_results)\n",
    "    average_raw_edit_distance = total_raw_edit_distance / num_samples\n",
    "    average_post_processed_edit_distance = total_post_processed_edit_distance / num_samples\n",
    "\n",
    "    print(\"Average Raw Edit Distance:\", average_raw_edit_distance)\n",
    "    print(\"Average Post-Processed Edit Distance:\", average_post_processed_edit_distance)\n",
    "\n",
    "# Load test results from CSV\n",
    "file_path = 'LipReading_nn_1000_predictions.csv'\n",
    "test_results = load_test_results_from_csv(file_path)\n",
    "\n",
    "# Compute metrics with the loaded test results\n",
    "compute_metrics(test_results)\n"
   ]
  },
  {
   "cell_type": "code",
   "execution_count": 1,
   "metadata": {
    "colab": {
     "base_uri": "https://localhost:8080/"
    },
    "executionInfo": {
     "elapsed": 1223,
     "status": "ok",
     "timestamp": 1715892529107,
     "user": {
      "displayName": "Kaleb Shah",
      "userId": "05986787073364614490"
     },
     "user_tz": 300
    },
    "id": "cGJKfzf8Kgtp",
    "outputId": "6a852874-b386-4dad-feec-f4ef97d68eb3"
   },
   "outputs": [],
   "source": [
    "# import csv\n",
    "\n",
    "# def load_data_from_csv(file_path):\n",
    "#     with open(file_path, mode='r', newline='') as file:\n",
    "#         reader = csv.DictReader(file)\n",
    "#         return list(reader)\n",
    "\n",
    "# def calculate_word_accuracy(test_results):\n",
    "#     word_accuracies = []\n",
    "\n",
    "#     for result in test_results:\n",
    "#         original_words = set(result['original_text'].split())\n",
    "#         predicted_words = set(result['post_processed_prediction'].split())\n",
    "\n",
    "#         # Calculate the number of common words\n",
    "#         common_words = original_words.intersection(predicted_words)\n",
    "#         num_common_words = len(common_words)\n",
    "#         total_words_in_original = len(original_words)\n",
    "\n",
    "#         # Avoid division by zero\n",
    "#         if total_words_in_original > 0:\n",
    "#             accuracy = num_common_words / total_words_in_original\n",
    "#         else:\n",
    "#             accuracy = 0.0  # Can consider it as perfect match if no words to predict\n",
    "\n",
    "#         word_accuracies.append({\n",
    "#             'original_text': result['original_text'],\n",
    "#             'predicted_text': result['post_processed_prediction'],\n",
    "#             'common_word_count': num_common_words,\n",
    "#             'total_original_words': total_words_in_original,\n",
    "#             'word_accuracy': accuracy\n",
    "#         })\n",
    "\n",
    "#         # Optionally print each comparison's details\n",
    "#         print(f\"Original: {result['original_text']}\")\n",
    "#         print(f\"Predicted: {result['post_processed_prediction']}\")\n",
    "#         print(f\"Word Accuracy: {accuracy:.2f}\")\n",
    "#         print('-' * 50)\n",
    "\n",
    "#     return word_accuracies\n",
    "\n",
    "# # Path to your CSV file\n",
    "# file_path = 'LipReading_nn_1000_predictions.csv'\n",
    "# test_results = load_data_from_csv(file_path)\n",
    "# word_accuracies = calculate_word_accuracy(test_results)\n",
    "\n",
    "# # If you need to see the average accuracy\n",
    "# average_accuracy = sum(item['word_accuracy'] for item in word_accuracies) / len(word_accuracies)\n",
    "# print(f\"Average Word Accuracy: {average_accuracy:.2f}\")"
   ]
  },
  {
   "cell_type": "code",
   "execution_count": 20,
   "metadata": {
    "colab": {
     "base_uri": "https://localhost:8080/"
    },
    "executionInfo": {
     "elapsed": 412,
     "status": "ok",
     "timestamp": 1715892743512,
     "user": {
      "displayName": "Kaleb Shah",
      "userId": "05986787073364614490"
     },
     "user_tz": 300
    },
    "id": "yRWcTNmrKiBh",
    "outputId": "a1695044-db06-48c9-cdd9-86f093b4e614"
   },
   "outputs": [
    {
     "name": "stdout",
     "output_type": "stream",
     "text": [
      "Updated CSV with word coverage has been written to: LipReading_nn_1000_predictions_updated.csv\n"
     ]
    }
   ],
   "source": [
    "import csv\n",
    "\n",
    "def load_and_modify_csv(file_path):\n",
    "    data = []\n",
    "    with open(file_path, mode='r', newline='') as file:\n",
    "        reader = csv.DictReader(file)\n",
    "        for row in reader:\n",
    "            data.append(row)\n",
    "\n",
    "    return data\n",
    "\n",
    "def calculate_and_add_word_coverage(data):\n",
    "    for row in data:\n",
    "        original_words = set(row['original_text'].split())\n",
    "        predicted_words = set(row['post_processed_prediction'].split())\n",
    "\n",
    "        # Calculate the number of common words\n",
    "        common_words = original_words.intersection(predicted_words)\n",
    "        num_common_words = len(common_words)\n",
    "        total_words_in_original = len(original_words)\n",
    "\n",
    "        # Calculate word accuracy\n",
    "        if total_words_in_original > 0:\n",
    "            word_coverage = num_common_words / total_words_in_original\n",
    "        else:\n",
    "            word_coverage = 0.0  # Can consider it as perfect match if no words to predict\n",
    "\n",
    "        # Add the word accuracy to the row\n",
    "        row['word_coverage'] = word_coverage\n",
    "\n",
    "    return data\n",
    "\n",
    "def write_data_to_csv(data, output_file_path):\n",
    "    if data:\n",
    "        fieldnames = data[0].keys()  # Extract fieldnames from the first row dictionary\n",
    "        with open(output_file_path, 'w', newline='') as file:\n",
    "            writer = csv.DictWriter(file, fieldnames=fieldnames)\n",
    "            writer.writeheader()\n",
    "            writer.writerows(data)\n",
    "\n",
    "# Path to your CSV file and output file path\n",
    "input_file_path = 'LipReading_nn_1000_predictions.csv'\n",
    "output_file_path = 'LipReading_nn_1000_predictions_updated.csv'\n",
    "\n",
    "# Load data, calculate word coverage, and write to a new CSV\n",
    "data = load_and_modify_csv(input_file_path)\n",
    "data_with_coverage = calculate_and_add_word_coverage(data)\n",
    "write_data_to_csv(data_with_coverage, output_file_path)\n",
    "\n",
    "print(\"Updated CSV with word coverage has been written to:\", output_file_path)"
   ]
  },
  {
   "cell_type": "code",
   "execution_count": null,
   "metadata": {
    "id": "crxancDkLWjF"
   },
   "outputs": [],
   "source": []
  }
 ],
 "metadata": {
  "accelerator": "GPU",
  "colab": {
   "authorship_tag": "ABX9TyOJNoKAQiEIZq+axiuQoDD5",
   "gpuType": "A100",
   "machine_shape": "hm",
   "provenance": []
  },
  "kernelspec": {
   "display_name": "Python 3 (ipykernel)",
   "language": "python",
   "name": "python3"
  },
  "language_info": {
   "codemirror_mode": {
    "name": "ipython",
    "version": 3
   },
   "file_extension": ".py",
   "mimetype": "text/x-python",
   "name": "python",
   "nbconvert_exporter": "python",
   "pygments_lexer": "ipython3",
   "version": "3.11.5"
  }
 },
 "nbformat": 4,
 "nbformat_minor": 1
}
