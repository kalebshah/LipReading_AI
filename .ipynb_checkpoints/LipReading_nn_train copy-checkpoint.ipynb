{
 "cells": [
  {
   "cell_type": "markdown",
   "metadata": {
    "id": "AfziSDU8NCfp"
   },
   "source": [
    "# STA 395 - Homemade LipNet Code (by Kaleb Shah)\n"
   ]
  },
  {
   "cell_type": "markdown",
   "metadata": {
    "id": "zRjM3zjmM8Zx"
   },
   "source": [
    "## Install Dependencies and Libraries"
   ]
  },
  {
   "cell_type": "code",
   "execution_count": null,
   "metadata": {
    "colab": {
     "base_uri": "https://localhost:8080/"
    },
    "executionInfo": {
     "elapsed": 1447,
     "status": "ok",
     "timestamp": 1715193208480,
     "user": {
      "displayName": "Kaleb Shah",
      "userId": "05986787073364614490"
     },
     "user_tz": 300
    },
    "id": "kgb8W6V3YY8K",
    "outputId": "e25b6c2b-f27d-4ed0-d250-17e8fb10d406"
   },
   "outputs": [
    {
     "name": "stdout",
     "output_type": "stream",
     "text": [
      "Drive already mounted at /content/drive; to attempt to forcibly remount, call drive.mount(\"/content/drive\", force_remount=True).\n"
     ]
    }
   ],
   "source": [
    "import cv2  # OpenCV library for video processing\n",
    "import torch  # PyTorch library for deep learning\n",
    "import os  # For file and directory manipulation\n",
    "import numpy as np  # Numerical computing library\n",
    "from typing import List  # Type hinting for clarity\n",
    "from matplotlib import pyplot as plt  # For visualization\n",
    "import imageio  # For creating GIFs\n",
    "import gdown  # For downloading data from Google Drive\n",
    "from torch.utils.data import Dataset, DataLoader  # For creating data loaders\n",
    "import torch.nn as nn  # Neural network modules\n",
    "import torch.optim as optim  # Optimization algorithms\n",
    "from torchvision import datasets, transforms  # Image and video transformations\n",
    "import torch.nn.functional as F  # Functional interface for neural network operations\n",
    "from torch.nn.utils.rnn import pad_sequence  # Padding for sequencesF\n",
    "\n",
    "# Set device to GPU if available, else CPU\n",
    "device = torch.device(\"cuda\" if torch.cuda.is_available() else \"cpu\")\n",
    "# Connecting Google Drive\n",
    "# from google.colab import drive\n",
    "# drive.mount('/content/drive')"
   ]
  },
  {
   "cell_type": "code",
   "execution_count": 2,
   "metadata": {
    "executionInfo": {
     "elapsed": 908,
     "status": "ok",
     "timestamp": 1715876470873,
     "user": {
      "displayName": "Kaleb Shah",
      "userId": "05986787073364614490"
     },
     "user_tz": 300
    },
    "id": "V8tiZ3NeZoDk"
   },
   "outputs": [],
   "source": [
    "## Extracting Files From Previously Downloaded Data (needed for google colab)\n",
    "# url = 'https://drive.google.com/uc?id=1YlvpDLix3S-U8fd-gqRwPcWXAXm8JwjL'\n",
    "# output = 'data.zip'\n",
    "# gdown.download(url, output, quiet=False)\n",
    "# gdown.extractall('data.zip')"
   ]
  },
  {
   "cell_type": "markdown",
   "metadata": {
    "id": "c71eJEHONf4r"
   },
   "source": [
    "## Data Loading and Helper Functions"
   ]
  },
  {
   "cell_type": "code",
   "execution_count": null,
   "metadata": {
    "id": "1QQd6LwOYjsO"
   },
   "outputs": [],
   "source": [
    "# Helper class for character mapping including encoding and decoding character strings\n",
    "class CharMap:\n",
    "    def __init__(self):\n",
    "        self.vocab = [x for x in \"abcdefghijklmnopqrstuvwxyz'?!123456789 \"] + [\"<pad>\"]\n",
    "        self.char_to_num = {char: num for num, char in enumerate(self.vocab)}\n",
    "        self.num_to_char = {num: char for char, num in self.char_to_num.items()}\n",
    "        self.pad_token_idx = self.char_to_num[\"<pad>\"]  # Store the index of the <pad> token\n",
    "\n",
    "    def encode(self, text):\n",
    "        return [self.char_to_num[char] for char in text if char in self.char_to_num]\n",
    "\n",
    "    def decode(self, indices):\n",
    "        # Decode, ignoring indices corresponding to <pad>\n",
    "        return ''.join(self.num_to_char[idx] for idx in indices if idx != self.pad_token_idx)\n",
    "\n",
    "char_map = CharMap()"
   ]
  },
  {
   "cell_type": "code",
   "execution_count": null,
   "metadata": {
    "id": "F4Nu47PzYlfS"
   },
   "outputs": [],
   "source": [
    "# Function to load and preprocess video frames\n",
    "def load_video(path: str) -> torch.Tensor:\n",
    "    \"\"\"\n",
    "    Loads a video file, preprocesses the frames, and returns a PyTorch tensor of normalized frames.\n",
    "    \"\"\"\n",
    "    cap = cv2.VideoCapture(path)  # Open the video file\n",
    "    frames = []\n",
    "    for _ in range(int(cap.get(cv2.CAP_PROP_FRAME_COUNT))):  # Iterate over frames\n",
    "        ret, frame = cap.read()  # Read a frame\n",
    "        frame = cv2.cvtColor(frame, cv2.COLOR_BGR2GRAY)  # Convert to grayscale\n",
    "        frames.append(frame[190:236, 80:220])  # Crop region of interest\n",
    "    cap.release()  # Release the video capture object\n",
    "\n",
    "    frames = torch.tensor(frames, dtype=torch.float32)  # Convert frames to PyTorch tensor\n",
    "    mean = frames.mean()  # Calculate mean\n",
    "    std = frames.std()  # Calculate standard deviation\n",
    "    return (frames - mean) / std  # Normalize pixel values\n",
    "\n",
    "# Function to load and process alignment files\n",
    "def load_alignments(path: str) -> torch.Tensor:  # Changed return type to torch.Tensor\n",
    "    \"\"\"\n",
    "    Loads alignments from a file and converts them to a PyTorch tensor of character indices.\n",
    "    \"\"\"\n",
    "    with open(path, 'r') as f:\n",
    "        lines = f.readlines()  # Read all lines from the alignment file\n",
    "    tokens = []\n",
    "    for line in lines:\n",
    "        line = line.split()  # Split the line into words\n",
    "        if line[2] != 'sil':  # Check if the word is not silence ('sil')\n",
    "            tokens.extend([' ', line[2]])  # Add a space and the word to the tokens list\n",
    "    tokens = [char for token in tokens for char in token]  # Flatten the list of tokens\n",
    "    indices = [char_map.char_to_num[char] for char in tokens[1:]]  # Convert characters to numerical indices\n",
    "    return torch.tensor(indices, dtype=torch.long)  # Return a PyTorch tensor of indices"
   ]
  },
  {
   "cell_type": "code",
   "execution_count": null,
   "metadata": {
    "colab": {
     "base_uri": "https://localhost:8080/",
     "height": 263
    },
    "executionInfo": {
     "elapsed": 350,
     "status": "ok",
     "timestamp": 1715180442671,
     "user": {
      "displayName": "Kaleb Shah",
      "userId": "05986787073364614490"
     },
     "user_tz": 300
    },
    "id": "2WtqXYE9Yojb",
    "outputId": "495acb5b-dc8f-473c-cd2c-f2e2d089b942"
   },
   "outputs": [
    {
     "data": {
      "image/png": "[encoded data removed]",
      "text/plain": [
       "<Figure size 640x480 with 1 Axes>"
      ]
     },
     "metadata": {},
     "output_type": "display_data"
    },
    {
     "name": "stdout",
     "output_type": "stream",
     "text": [
      "torch.Size([24])\n",
      "bin blue at f three soon\n"
     ]
    }
   ],
   "source": [
    "# Function to load both video and alignment data\n",
    "def load_data(path: str):\n",
    "    \"\"\"\n",
    "    Loads video frames and alignments from the specified path.\n",
    "    \"\"\"\n",
    "    file_name = os.path.splitext(os.path.basename(path))[0]  # Extract filename without extension\n",
    "    video_path = os.path.join('data', 's1', f'{file_name}.mpg')  # Construct video path\n",
    "    alignment_path = os.path.join('data', 'alignments', 's1', f'{file_name}.align')  # Construct alignment path\n",
    "\n",
    "    if os.path.exists(alignment_path):  # Check if alignment file exists\n",
    "        frames = load_video(video_path)  # Load video frames\n",
    "        alignments = load_alignments(alignment_path)  # Load alignments\n",
    "        return frames, alignments\n",
    "    else:\n",
    "        return None\n",
    "\n",
    "## Testing if Data was loaded as expected and the tensors are correct size.\n",
    "# test_path = \"/content/data/s1/bbaf3s.mpg\"\n",
    "# frames, alignments = load_data(test_path)\n",
    "# plt.imshow(frames[35].cpu().numpy(), cmap='gray')\n",
    "# plt.show()\n",
    "# print(alignments.size())\n",
    "# print(frames.size())\n",
    "# print(''.join([char_map.num_to_char[num.item()] for num in alignments]))"
   ]
  },
  {
   "cell_type": "code",
   "execution_count": null,
   "metadata": {
    "id": "pDKME6abYwXK"
   },
   "outputs": [],
   "source": [
    "# Dataset class for lip reading data\n",
    "class LipReadingDataset(Dataset):\n",
    "    def __init__(self, file_paths):\n",
    "        self.file_paths = file_paths  # Store list of file paths\n",
    "\n",
    "    def __len__(self):\n",
    "        return len(self.file_paths)  # Return the number of data samples\n",
    "\n",
    "    def __getitem__(self, index):\n",
    "        path = self.file_paths[index]  # Get file path for the given index\n",
    "        data = load_data(path)  # Load data (frames and alignments)\n",
    "        if data is not None:\n",
    "            frames, alignments = data\n",
    "            return frames, alignments\n",
    "        else:\n",
    "            return self.__getitem__(index + 1)  # If data is None, try the next index\n",
    "\n",
    "        return video, alignment\n",
    "\n",
    "from torch.nn.utils.rnn import pad_sequence\n",
    "\n",
    "# Collate function to add padding to both frames and alignments tensors\n",
    "def collate_fn(batch):\n",
    "    videos, alignments = zip(*batch)\n",
    "    # Convert list of arrays or tensors to padded tensor\n",
    "    # Use .clone().detach() to safely create a new tensor detached from the computation graph\n",
    "    padded_videos = pad_sequence([v.clone().detach() if isinstance(v, torch.Tensor) else torch.tensor(v) for v in videos], batch_first=True)\n",
    "    padded_alignments = pad_sequence([a.clone().detach() if isinstance(a, torch.Tensor) else torch.tensor(a) for a in alignments], batch_first=True, padding_value=char_map.char_to_num[\"<pad>\"])\n",
    "    return padded_videos, padded_alignments"
   ]
  },
  {
   "cell_type": "markdown",
   "metadata": {
    "id": "wjlselVLNmFC"
   },
   "source": [
    "## Training"
   ]
  },
  {
   "cell_type": "code",
   "execution_count": null,
   "metadata": {
    "id": "c_v1JMzrZAHw"
   },
   "outputs": [],
   "source": [
    "## Read all file names from the Data directory\n",
    "data_dir = 'data/s1/'\n",
    "file_paths = [os.path.join(data_dir, f) for f in os.listdir(data_dir) if f.endswith('.mpg')]\n",
    "dataset = LipReadingDataset(file_paths)\n",
    "\n",
    "## Create Train Test Split\n",
    "train_size = int(0.9 * len(dataset))\n",
    "test_size = len(dataset) - train_size\n",
    "train_dataset, test_dataset = torch.utils.data.random_split(dataset, [train_size, test_size])\n",
    "\n",
    "## Decides the number of channels in each tensor\n",
    "batch_size = 2  # Setting the batch size\n",
    "train_loader = DataLoader(train_dataset, batch_size=batch_size, shuffle=True, collate_fn=collate_fn)\n",
    "test_loader = DataLoader(test_dataset, batch_size=batch_size, shuffle=False, collate_fn=collate_fn)"
   ]
  },
  {
   "cell_type": "code",
   "execution_count": null,
   "metadata": {
    "colab": {
     "base_uri": "https://localhost:8080/",
     "height": 316
    },
    "executionInfo": {
     "elapsed": 471,
     "status": "ok",
     "timestamp": 1715180443138,
     "user": {
      "displayName": "Kaleb Shah",
      "userId": "05986787073364614490"
     },
     "user_tz": 300
    },
    "id": "TOba7l872N4Y",
    "outputId": "e242fd0d-82cb-4370-dbbc-e6fd3739795b"
   },
   "outputs": [
    {
     "name": "stdout",
     "output_type": "stream",
     "text": [
      "Frames shape: torch.Size([2, 75, 46, 140])\n",
      "Alignments shape: torch.Size([2, 26])\n",
      "[18, 4, 19, 38, 1, 11, 20, 4, 38, 8, 13, 38, 19, 38, 19, 22, 14, 38, 13, 14, 22, 39, 39, 39, 39, 39]\n",
      "set blue in t two now<pad><pad><pad><pad><pad>\n"
     ]
    },
    {
     "data": {
      "text/plain": [
       "<matplotlib.image.AxesImage at 0x7d33bdb6dd20>"
      ]
     },
     "execution_count": 18,
     "metadata": {},
     "output_type": "execute_result"
    },
    {
     "data": {
      "image/png": "[encoded data removed]",
      "text/plain": [
       "<Figure size 640x480 with 1 Axes>"
      ]
     },
     "metadata": {},
     "output_type": "display_data"
    }
   ],
   "source": [
    "import matplotlib.pyplot as plt\n",
    "import matplotlib.animation as animation\n",
    "\n",
    "# Test if padding worked as expected and all tensors are of uniform size\n",
    "batch = next(iter(train_loader))\n",
    "frames, alignments = batch\n",
    "print(f\"Frames shape: {frames.shape}\")\n",
    "print(f\"Alignments shape: {alignments.shape}\")\n",
    "\n",
    "# Visualize the first frame of the first video in the batch\n",
    "# Print the alignments for the sample video\n",
    "sample_alignments = alignments[0].tolist()\n",
    "print(sample_alignments)\n",
    "print(char_map.decode(sample_alignments))\n",
    "plt.imshow(frames[0][74].cpu().numpy())"
   ]
  },
  {
   "cell_type": "markdown",
   "metadata": {
    "id": "eDPsNOMBfoFm"
   },
   "source": [
    "## Creating Model"
   ]
  },
  {
   "cell_type": "code",
   "execution_count": null,
   "metadata": {
    "id": "5nQRrAdeSpCp"
   },
   "outputs": [],
   "source": [
    "import torch\n",
    "import torch.nn as nn\n",
    "import torch.nn.functional as F\n",
    "import torch.optim as optim\n",
    "from torch.utils.data import DataLoader\n",
    "import csv\n",
    "\n",
    "class LipNetModel(nn.Module):\n",
    "    def __init__(self, num_classes):\n",
    "        super(LipNetModel, self).__init__()\n",
    "        self.conv1 = nn.Conv3d(1, 128, kernel_size=3, padding=1)\n",
    "        self.pool1 = nn.MaxPool3d((1, 2, 2))\n",
    "\n",
    "        self.conv2 = nn.Conv3d(128, 256, kernel_size=3, padding=1)\n",
    "        self.pool2 = nn.MaxPool3d((1, 2, 2))\n",
    "\n",
    "        self.conv3 = nn.Conv3d(256, 75, kernel_size=3, padding=1)\n",
    "        self.pool3 = nn.MaxPool3d((1, 2, 2))\n",
    "\n",
    "        # Adjust the GRU layers to not use dropout internally since they have only one layer\n",
    "        self.gru1 = nn.GRU(6375, 128, num_layers=1, batch_first=True, bidirectional=True)\n",
    "        self.dropout1 = nn.Dropout(0.5)  # Add dropout layer manually after the first GRU\n",
    "        self.gru2 = nn.GRU(256, 128, num_layers=1, batch_first=True, bidirectional=True)\n",
    "        self.dropout2 = nn.Dropout(0.5)  # Add dropout layer manually after the second GRU\n",
    "\n",
    "        self.fc = nn.Linear(256, num_classes)  # Output layer to number of classes\n",
    "\n",
    "    def forward(self, x):\n",
    "        x = F.relu(self.conv1(x))\n",
    "        x = self.pool1(x)\n",
    "\n",
    "        x = F.relu(self.conv2(x))\n",
    "        x = self.pool2(x)\n",
    "\n",
    "        x = F.relu(self.conv3(x))\n",
    "        x = self.pool3(x)\n",
    "\n",
    "        # Flatten the features into [batch, seq_len, feature]\n",
    "        x = x.view(x.size(0), x.size(2), -1)\n",
    "\n",
    "        x, _ = self.gru1(x)\n",
    "        x = self.dropout1(x)  # Apply dropout after the first GRU\n",
    "        x, _ = self.gru2(x)\n",
    "        x = self.dropout2(x)  # Apply dropout after the second GRU\n",
    "        x = self.fc(x)\n",
    "\n",
    "        return x\n",
    "\n",
    "# Define device\n",
    "device = torch.device('cuda' if torch.cuda.is_available() else 'cpu')\n",
    "\n",
    "# # Define model, optimizer, and loss function\n",
    "# num_classes = len(char_map.vocab)  # Assuming char_map is defined elsewhere\n",
    "# model = LipNetModel(num_classes).to(device)\n",
    "# optimizer = optim.Adam(model.parameters(), lr=0.0001)\n",
    "# ctc_loss = nn.CTCLoss(blank=char_map.char_to_num[\"<pad>\"], zero_infinity=True)"
   ]
  },
  {
   "cell_type": "markdown",
   "metadata": {
    "id": "cZhppAvpiH7b"
   },
   "source": [
    "## Setting up training"
   ]
  },
  {
   "cell_type": "markdown",
   "metadata": {
    "id": "ORnE2pykSJNp"
   },
   "source": []
  },
  {
   "cell_type": "code",
   "execution_count": 1,
   "metadata": {
    "colab": {
     "base_uri": "https://localhost:8080/"
    },
    "executionInfo": {
     "elapsed": 299161,
     "status": "ok",
     "timestamp": 1715205840510,
     "user": {
      "displayName": "Kaleb Shah",
      "userId": "05986787073364614490"
     },
     "user_tz": 300
    },
    "id": "wz5PJY9GztLm",
    "outputId": "db5fa881-bfba-4413-b8d5-77e7ea7d42ec"
   },
   "outputs": [],
   "source": [
    "# import torch\n",
    "# import torch.nn as nn\n",
    "# import torch.optim as optim\n",
    "# from torch.utils.data import DataLoader\n",
    "# import csv\n",
    "\n",
    "# # Initialize model and optimizer\n",
    "# device = torch.device('cuda' if torch.cuda.is_available() else 'cpu')\n",
    "# num_classes = len(char_map.vocab)  # make sure char_map is defined and loaded as before\n",
    "# model = LipNetModel(num_classes).to(device)\n",
    "\n",
    "# # Load the model state from the saved file\n",
    "# # (This is to resume training of a model after 10 Epochs to not waste compute)\n",
    "# # model.load_state_dict(torch.load('/content/drive/MyDrive/Colab Notebooks/model_1_checkpoints/2_lip_reading_model_10.pth'))\n",
    "\n",
    "# # Define the optimizer\n",
    "# optimizer = optim.Adam(model.parameters(), lr=0.0001)\n",
    "\n",
    "# # Define the loss function and the learning rate scheduler\n",
    "# ctc_loss = nn.CTCLoss(blank=char_map.char_to_num[\"<pad>\"], zero_infinity=True)\n",
    "# def lr_scheduler(optimizer, epoch, initial_lr=0.0001, decay_rate=0.1):\n",
    "#     if epoch < 30:\n",
    "#         return initial_lr\n",
    "#     else:\n",
    "#         lr = initial_lr * torch.exp(torch.tensor(-decay_rate))\n",
    "#         for param_group in optimizer.param_groups:\n",
    "#             param_group['lr'] = lr\n",
    "#         return lr\n",
    "\n",
    "# # Assuming the LipReadingDataset and collate_fn are already defined\n",
    "# data_dir = 'data/s1/'\n",
    "# file_paths = [os.path.join(data_dir, f) for f in os.listdir(data_dir) if f.endswith('.mpg')]\n",
    "# dataset = LipReadingDataset(file_paths)\n",
    "# loader = DataLoader(dataset, batch_size=2, shuffle=True, collate_fn=collate_fn)\n",
    "\n",
    "# # Training loop setup\n",
    "# loss_records = []\n",
    "# initial_epoch = 0  # starting from epoch 0 (can be changed to x if we resume training at x epochs)\n",
    "# num_epochs = 100  # total epochs\n",
    "# for epoch in range(initial_epoch, num_epochs):\n",
    "#     model.train()\n",
    "#     running_loss = 0.0\n",
    "#     for batch_index, (inputs, labels) in enumerate(loader):\n",
    "#         inputs = inputs.unsqueeze(1)  # Add a channel dimension at position 1\n",
    "#         inputs, labels = inputs.to(device), labels.to(device)\n",
    "\n",
    "#         optimizer.zero_grad()\n",
    "\n",
    "#         outputs = model(inputs)\n",
    "#         input_lengths = torch.full((inputs.size(0),), outputs.size(2), dtype=torch.long)\n",
    "#         target_lengths = torch.tensor([len(label) for label in labels], dtype=torch.long)\n",
    "\n",
    "#         current_loss = ctc_loss(outputs.log_softmax(2).permute(1, 0, 2), labels, input_lengths, target_lengths)\n",
    "#         current_loss.backward()\n",
    "#         optimizer.step()\n",
    "\n",
    "#         running_loss += current_loss.item()\n",
    "#         loss_records.append((epoch, batch_index, current_loss.item()))\n",
    "#         print(f\"Epoch {epoch+1}/{num_epochs}, Batch {batch_index+1}/{len(loader)}, Loss: {current_loss.item()}\")\n",
    "\n",
    "#     if lr_scheduler is not None:\n",
    "#         lr_scheduler(optimizer, epoch)\n",
    "\n",
    "#     average_loss = running_loss / len(loader)\n",
    "#     print(f\"Epoch {epoch+1}/{num_epochs}, Average Loss: {average_loss}\")\n",
    "\n",
    "#     torch.save(model.state_dict(), f'/Model_Checkpoints/lip_nn_model_post_{epoch+1}_epoch.pth')\n",
    "#     with open(f'/Loss_Records/lip_nn_loss_post_{epoch+1}_epoch.csv', 'w', newline='') as file:\n",
    "#         writer = csv.writer(file)\n",
    "#         writer.writerow(['Epoch', 'Batch', 'Loss'])\n",
    "#         for record in loss_records:\n",
    "#             writer.writerow(record)\n",
    "\n",
    "#     decoded = torch.argmax(outputs, dim=2)\n",
    "#     original_text = ''.join([char_map.num_to_char[c.item()] for c in labels[0] if c != char_map.char_to_num[\"<pad>\"]])\n",
    "#     predicted_text = ''.join([char_map.num_to_char[c.item()] for c in decoded[0]])\n",
    "#     print(f\"Original: {original_text}\")\n",
    "#     print(f\"Prediction: {predicted_text}\")\n",
    "#     print('~' * 100)\n"
   ]
  },
  {
   "cell_type": "code",
   "execution_count": 3,
   "metadata": {
    "executionInfo": {
     "elapsed": 382,
     "status": "ok",
     "timestamp": 1715876849113,
     "user": {
      "displayName": "Kaleb Shah",
      "userId": "05986787073364614490"
     },
     "user_tz": 300
    },
    "id": "8zxcUDplz_lP"
   },
   "outputs": [],
   "source": [
    "# Save final model\n",
    "# torch.save(model, 'Model_Checkpoints/lip_nn_model_post_100_epoch.pth')\n",
    "\n",
    "# Exporting model checkpoints and loss records to Google Drive from Google Colab\n",
    "# !cp /content/2_lip_reading_model_100.pth \"/content/drive/MyDrive/Colab Notebooks/model_1_checkpoints/2_lip_reading_model_100.pth\"\n",
    "# !cp /content/2_loss_records_epoch_99.csv \"/content/drive/MyDrive/Colab Notebooks/loss_records/2_loss_records_epoch_99.csv\""
   ]
  },
  {
   "cell_type": "markdown",
   "metadata": {
    "id": "acElM8hGPsz8"
   },
   "source": [
    "## Preliminary Testing of Model"
   ]
  },
  {
   "cell_type": "code",
   "execution_count": null,
   "metadata": {
    "colab": {
     "base_uri": "https://localhost:8080/"
    },
    "executionInfo": {
     "elapsed": 360,
     "status": "ok",
     "timestamp": 1715206074352,
     "user": {
      "displayName": "Kaleb Shah",
      "userId": "05986787073364614490"
     },
     "user_tz": 300
    },
    "id": "RC9ujA1F08ZY",
    "outputId": "2266183d-f066-46c8-c089-b07dbeee6e8f"
   },
   "outputs": [
    {
     "name": "stdout",
     "output_type": "stream",
     "text": [
      "[15, 11, 0, 2, 4, 38, 17, 4, 3, 38, 8, 13, 38, 8, 38, 18, 4, 21, 4, 13, 38, 18, 14, 14, 13, 39]\n",
      "place red in i seven soon<pad>\n",
      "[11, 0, 24, 38, 6, 17, 4, 4, 13, 38, 0, 19, 38, 12, 38, 25, 4, 17, 14, 38, 15, 11, 4, 0, 18, 4]\n",
      "lay green at m zero please\n"
     ]
    }
   ],
   "source": [
    "# Set model to evaluation\n",
    "model.eval()\n",
    "\n",
    "# Grab a test batch from preliminary testing of model\n",
    "batch = next(iter(test_loader))\n",
    "inputs, labels = batch\n",
    "inputs = inputs.unsqueeze(1)  # Add a channel dimension at position 1\n",
    "inputs, labels = inputs.to(device), labels.to(device)\n",
    "\n",
    "sample_alignments = alignments[0].tolist()\n",
    "print(sample_alignments)\n",
    "print(char_map.decode(sample_alignments))\n",
    "sample_alignments_1 = alignments[1].tolist()\n",
    "print(sample_alignments_1)\n",
    "print(char_map.decode(sample_alignments_1))"
   ]
  },
  {
   "cell_type": "code",
   "execution_count": null,
   "metadata": {
    "colab": {
     "base_uri": "https://localhost:8080/"
    },
    "executionInfo": {
     "elapsed": 449,
     "status": "ok",
     "timestamp": 1715206352135,
     "user": {
      "displayName": "Kaleb Shah",
      "userId": "05986787073364614490"
     },
     "user_tz": 300
    },
    "id": "3GUxDCMBfsrl",
    "outputId": "8d83d07a-f576-4509-f32f-21f64a0255a5"
   },
   "outputs": [
    {
     "name": "stdout",
     "output_type": "stream",
     "text": [
      "place reedd in  i seven ssooon nnnnn  oon\n",
      "\n",
      "llay green at  z zero pleaaase plleee bennn no\n"
     ]
    }
   ],
   "source": [
    "import torch\n",
    "\n",
    "## Create Function to convert predictions from Model into character strings without padding\n",
    "def decode_predictions(output, char_map):\n",
    "    # Apply softmax to convert logits to probabilities\n",
    "    probabilities = F.softmax(output, dim=2)\n",
    "    # Use argmax to get the most likely character indices\n",
    "    max_indices = torch.argmax(probabilities, dim=2)\n",
    "    batch_size = max_indices.size(0)\n",
    "    pad_token_idx = char_map.char_to_num[\"<pad>\"]  # Get the index for the pad token\n",
    "\n",
    "    # Decode each sequence in the batch, ignoring pad characters\n",
    "    decoded_batch = []\n",
    "    for i in range(batch_size):\n",
    "        decoded_text = ''.join([char_map.num_to_char[idx.item()] for idx in max_indices[i] if idx.item() != pad_token_idx])\n",
    "        decoded_batch.append(decoded_text)\n",
    "\n",
    "    return decoded_batch\n",
    "\n",
    "\n",
    "# Example of model predictions on test data from above\n",
    "with torch.no_grad():\n",
    "    output = model(inputs)\n",
    "    predicted_texts = decode_predictions(output, char_map)\n",
    "    print(f\"{predicted_texts[0]}\")\n",
    "    print(f\"\\n{predicted_texts[1]}\")\n"
   ]
  },
  {
   "cell_type": "markdown",
   "metadata": {
    "id": "wgAXe1B_Q_t5"
   },
   "source": [
    "## Testing Post Processing Fuction"
   ]
  },
  {
   "cell_type": "code",
   "execution_count": 15,
   "metadata": {
    "colab": {
     "base_uri": "https://localhost:8080/"
    },
    "executionInfo": {
     "elapsed": 356,
     "status": "ok",
     "timestamp": 1715885490762,
     "user": {
      "displayName": "Kaleb Shah",
      "userId": "05986787073364614490"
     },
     "user_tz": 300
    },
    "id": "3XDpl3L5Q--R",
    "outputId": "a7536e1b-0e24-45cd-b465-591d6274b93d"
   },
   "outputs": [
    {
     "name": "stdout",
     "output_type": "stream",
     "text": [
      "['place reeds in i seven soon', 'lay green at z zero please']\n"
     ]
    }
   ],
   "source": [
    "from textblob import TextBlob\n",
    "\n",
    "def clean_and_correct_text(text):\n",
    "    # Correct spelling using TextBlob\n",
    "    blob = TextBlob(text)\n",
    "    corrected_text = str(blob.correct())\n",
    "\n",
    "    # Tokenize the corrected text and normalize whitespace\n",
    "    tokens = corrected_text.split()\n",
    "\n",
    "    # Concatenate tokens until the 30 character limit is reached\n",
    "    result_text = \"\"\n",
    "    for token in tokens:\n",
    "        if len(result_text) + len(token) + 1 > 30:  # +1 for the space\n",
    "            break\n",
    "        result_text += (token + \" \")\n",
    "\n",
    "    return result_text.strip()\n",
    "\n",
    "# Example usage with your sample noisy texts\n",
    "noisy_texts = [\n",
    "    \"place reedd in i seven ssooon nnnnn oon\",\n",
    "    \"llay green at z zero pleaaase plleee bennn no\"\n",
    "]\n",
    "\n",
    "corrected_texts = [clean_and_correct_text(text) for text in noisy_texts]\n",
    "print(corrected_texts)\n"
   ]
  }
 ],
 "metadata": {
  "accelerator": "GPU",
  "colab": {
   "authorship_tag": "ABX9TyNhkrMmWFkioSnhWIA8phUD",
   "gpuType": "T4",
   "machine_shape": "hm",
   "mount_file_id": "1P_eNMfeSFPm7woYN2LYvEFFeHF7Tg8pA",
   "provenance": [
    {
     "file_id": "1P_eNMfeSFPm7woYN2LYvEFFeHF7Tg8pA",
     "timestamp": 1715206417646
    }
   ]
  },
  "kernelspec": {
   "display_name": "Python 3 (ipykernel)",
   "language": "python",
   "name": "python3"
  },
  "language_info": {
   "codemirror_mode": {
    "name": "ipython",
    "version": 3
   },
   "file_extension": ".py",
   "mimetype": "text/x-python",
   "name": "python",
   "nbconvert_exporter": "python",
   "pygments_lexer": "ipython3",
   "version": "3.11.5"
  }
 },
 "nbformat": 4,
 "nbformat_minor": 1
}
